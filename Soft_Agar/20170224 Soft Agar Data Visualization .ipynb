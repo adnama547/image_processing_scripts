{
 "cells": [
  {
   "cell_type": "markdown",
   "metadata": {},
   "source": [
    "# Descriptive Statistics and Data Visualization\n",
    "Soft Agar Assay\n",
    "- https://www.jove.com/video/51998/the-soft-agar-colony-formation-assay\n",
    "\n",
    "Data Pre-ocessing:\n",
    "- `processSoftAgar.ijm`\n",
    "\n",
    "Data analysis:\n",
    "- this notebook. should be able to run from any folder?"
   ]
  },
  {
   "cell_type": "markdown",
   "metadata": {},
   "source": [
    "## Imports"
   ]
  },
  {
   "cell_type": "code",
   "execution_count": 467,
   "metadata": {
    "collapsed": true
   },
   "outputs": [],
   "source": [
    "#standard imports\n",
    "import numpy as np\n",
    "import pandas as pd\n",
    "import scipy\n",
    "\n",
    "#import basic plotting functions\n",
    "import matplotlib.pyplot as plt\n",
    "\n",
    "#make plots visible in notebook (and later)\n",
    "%matplotlib inline\n",
    "\n",
    "#import plotting module for statistical data\n",
    "import seaborn as sns"
   ]
  },
  {
   "cell_type": "markdown",
   "metadata": {},
   "source": [
    "## Load Data"
   ]
  },
  {
   "cell_type": "code",
   "execution_count": 28,
   "metadata": {
    "collapsed": true
   },
   "outputs": [],
   "source": [
    "results=pd.read_csv(\"/Volumes/Amanda4TB/gartnerlab/1heterogeneityproject/soft agar/single cell soft agar test 1 start date 20170224 and 20170228 for at 9 and at9 crystal violet staining/quantification/20170224Results.csv\")"
   ]
  },
  {
   "cell_type": "code",
   "execution_count": 29,
   "metadata": {
    "collapsed": false
   },
   "outputs": [
    {
     "data": {
      "text/html": [
       "<div>\n",
       "<table border=\"1\" class=\"dataframe\">\n",
       "  <thead>\n",
       "    <tr style=\"text-align: right;\">\n",
       "      <th></th>\n",
       "      <th></th>\n",
       "      <th>Label</th>\n",
       "      <th>X</th>\n",
       "      <th>Y</th>\n",
       "      <th>Slice</th>\n",
       "    </tr>\n",
       "  </thead>\n",
       "  <tbody>\n",
       "    <tr>\n",
       "      <th>0</th>\n",
       "      <td>1</td>\n",
       "      <td>Untitled:at4-1</td>\n",
       "      <td>653</td>\n",
       "      <td>972</td>\n",
       "      <td>1</td>\n",
       "    </tr>\n",
       "    <tr>\n",
       "      <th>1</th>\n",
       "      <td>2</td>\n",
       "      <td>Untitled:at4-1</td>\n",
       "      <td>769</td>\n",
       "      <td>803</td>\n",
       "      <td>1</td>\n",
       "    </tr>\n",
       "    <tr>\n",
       "      <th>2</th>\n",
       "      <td>3</td>\n",
       "      <td>Untitled:at4-1</td>\n",
       "      <td>803</td>\n",
       "      <td>709</td>\n",
       "      <td>1</td>\n",
       "    </tr>\n",
       "    <tr>\n",
       "      <th>3</th>\n",
       "      <td>4</td>\n",
       "      <td>Untitled:at4-1</td>\n",
       "      <td>757</td>\n",
       "      <td>397</td>\n",
       "      <td>1</td>\n",
       "    </tr>\n",
       "    <tr>\n",
       "      <th>4</th>\n",
       "      <td>5</td>\n",
       "      <td>Untitled:at4-1</td>\n",
       "      <td>575</td>\n",
       "      <td>1043</td>\n",
       "      <td>1</td>\n",
       "    </tr>\n",
       "  </tbody>\n",
       "</table>\n",
       "</div>"
      ],
      "text/plain": [
       "               Label    X     Y  Slice\n",
       "0  1  Untitled:at4-1  653   972      1\n",
       "1  2  Untitled:at4-1  769   803      1\n",
       "2  3  Untitled:at4-1  803   709      1\n",
       "3  4  Untitled:at4-1  757   397      1\n",
       "4  5  Untitled:at4-1  575  1043      1"
      ]
     },
     "execution_count": 29,
     "metadata": {},
     "output_type": "execute_result"
    }
   ],
   "source": [
    "results.head()"
   ]
  },
  {
   "cell_type": "markdown",
   "metadata": {},
   "source": [
    "## Descriptive Statistics\n",
    "### The groupby() function\n",
    "*super helpful function* the **groupby() function** groups data by a column, typically a classifier."
   ]
  },
  {
   "cell_type": "code",
   "execution_count": 30,
   "metadata": {
    "collapsed": true
   },
   "outputs": [],
   "source": [
    "results_grouped=results.groupby('Label')"
   ]
  },
  {
   "cell_type": "code",
   "execution_count": 31,
   "metadata": {
    "collapsed": false
   },
   "outputs": [
    {
     "data": {
      "text/plain": [
       "<pandas.core.groupby.DataFrameGroupBy object at 0x113541610>"
      ]
     },
     "execution_count": 31,
     "metadata": {},
     "output_type": "execute_result"
    }
   ],
   "source": [
    "results_grouped #this is a 'groupby' object"
   ]
  },
  {
   "cell_type": "code",
   "execution_count": 33,
   "metadata": {
    "collapsed": false
   },
   "outputs": [
    {
     "data": {
      "text/plain": [
       "4837"
      ]
     },
     "execution_count": 33,
     "metadata": {},
     "output_type": "execute_result"
    }
   ],
   "source": [
    "results['X'].count()"
   ]
  },
  {
   "cell_type": "code",
   "execution_count": 34,
   "metadata": {
    "collapsed": false
   },
   "outputs": [
    {
     "data": {
      "text/plain": [
       "Label\n",
       "Untitled:at22-1       80\n",
       "Untitled:at22-2       73\n",
       "Untitled:at22-3       64\n",
       "Untitled:at4-1        18\n",
       "Untitled:at4-2        18\n",
       "Untitled:at4-3        15\n",
       "Untitled:at7-1        70\n",
       "Untitled:at7-2        90\n",
       "Untitled:at7-3        52\n",
       "Untitled:at8-1        24\n",
       "Untitled:at8-2        45\n",
       "Untitled:at8-3        15\n",
       "Untitled:at9-1       369\n",
       "Untitled:at9-2       357\n",
       "Untitled:at9-3       277\n",
       "Untitled:ca1a-1      214\n",
       "Untitled:ca1a-2      290\n",
       "Untitled:ca1a-3      195\n",
       "Untitled:gfp-1       232\n",
       "Untitled:gfp-2       261\n",
       "Untitled:gfp-3       241\n",
       "Untitled:r10mes-1    434\n",
       "Untitled:r10mes-2    484\n",
       "Untitled:r10mes-3    465\n",
       "Untitled:r3ep-1       41\n",
       "Untitled:r3ep-2       31\n",
       "Untitled:r3ep-3       33\n",
       "Untitled:rfp-1       112\n",
       "Untitled:rfp-2       113\n",
       "Untitled:rfp-3       124\n",
       "Name: X, dtype: int64"
      ]
     },
     "execution_count": 34,
     "metadata": {},
     "output_type": "execute_result"
    }
   ],
   "source": [
    "results_grouped['X'].count()"
   ]
  },
  {
   "cell_type": "code",
   "execution_count": 35,
   "metadata": {
    "collapsed": false
   },
   "outputs": [],
   "source": [
    "counts=results_grouped.count()\n",
    "counts.to_csv(\"/Volumes/Amanda4TB/gartnerlab/1heterogeneityproject/soft agar/single cell soft agar test 1 start date 20170224 and 20170228 for at 9 and at9 crystal violet staining/quantification/20170224Counts.csv\")"
   ]
  },
  {
   "cell_type": "markdown",
   "metadata": {},
   "source": [
    "#### curate labels, etc in excel then save as 'cur'"
   ]
  },
  {
   "cell_type": "code",
   "execution_count": 225,
   "metadata": {
    "collapsed": false,
    "scrolled": true
   },
   "outputs": [
    {
     "data": {
      "text/html": [
       "<div>\n",
       "<table border=\"1\" class=\"dataframe\">\n",
       "  <thead>\n",
       "    <tr style=\"text-align: right;\">\n",
       "      <th></th>\n",
       "      <th>Type</th>\n",
       "      <th>Phenotype</th>\n",
       "      <th>Label</th>\n",
       "      <th>Counts</th>\n",
       "    </tr>\n",
       "  </thead>\n",
       "  <tbody>\n",
       "    <tr>\n",
       "      <th>0</th>\n",
       "      <td>Mix</td>\n",
       "      <td>Mix</td>\n",
       "      <td>Par-22</td>\n",
       "      <td>80</td>\n",
       "    </tr>\n",
       "    <tr>\n",
       "      <th>1</th>\n",
       "      <td>Mix</td>\n",
       "      <td>Mix</td>\n",
       "      <td>Par-22</td>\n",
       "      <td>73</td>\n",
       "    </tr>\n",
       "    <tr>\n",
       "      <th>2</th>\n",
       "      <td>Mix</td>\n",
       "      <td>Mix</td>\n",
       "      <td>Par-22</td>\n",
       "      <td>64</td>\n",
       "    </tr>\n",
       "    <tr>\n",
       "      <th>3</th>\n",
       "      <td>Ep</td>\n",
       "      <td>Ep</td>\n",
       "      <td>Ep-4</td>\n",
       "      <td>18</td>\n",
       "    </tr>\n",
       "    <tr>\n",
       "      <th>4</th>\n",
       "      <td>Ep</td>\n",
       "      <td>Ep</td>\n",
       "      <td>Ep-4</td>\n",
       "      <td>18</td>\n",
       "    </tr>\n",
       "    <tr>\n",
       "      <th>5</th>\n",
       "      <td>Ep</td>\n",
       "      <td>Ep</td>\n",
       "      <td>Ep-4</td>\n",
       "      <td>15</td>\n",
       "    </tr>\n",
       "    <tr>\n",
       "      <th>6</th>\n",
       "      <td>Mes</td>\n",
       "      <td>Mes</td>\n",
       "      <td>Mes-7</td>\n",
       "      <td>70</td>\n",
       "    </tr>\n",
       "    <tr>\n",
       "      <th>7</th>\n",
       "      <td>Mes</td>\n",
       "      <td>Mes</td>\n",
       "      <td>Mes-7</td>\n",
       "      <td>90</td>\n",
       "    </tr>\n",
       "    <tr>\n",
       "      <th>8</th>\n",
       "      <td>Mes</td>\n",
       "      <td>Mes</td>\n",
       "      <td>Mes-7</td>\n",
       "      <td>52</td>\n",
       "    </tr>\n",
       "    <tr>\n",
       "      <th>9</th>\n",
       "      <td>Ep</td>\n",
       "      <td>Ep</td>\n",
       "      <td>Ep-8</td>\n",
       "      <td>24</td>\n",
       "    </tr>\n",
       "    <tr>\n",
       "      <th>10</th>\n",
       "      <td>Ep</td>\n",
       "      <td>Ep</td>\n",
       "      <td>Ep-8</td>\n",
       "      <td>45</td>\n",
       "    </tr>\n",
       "    <tr>\n",
       "      <th>11</th>\n",
       "      <td>Ep</td>\n",
       "      <td>Ep</td>\n",
       "      <td>Ep-8</td>\n",
       "      <td>15</td>\n",
       "    </tr>\n",
       "    <tr>\n",
       "      <th>12</th>\n",
       "      <td>Mes</td>\n",
       "      <td>Mes</td>\n",
       "      <td>Mes-9</td>\n",
       "      <td>369</td>\n",
       "    </tr>\n",
       "    <tr>\n",
       "      <th>13</th>\n",
       "      <td>Mes</td>\n",
       "      <td>Mes</td>\n",
       "      <td>Mes-9</td>\n",
       "      <td>357</td>\n",
       "    </tr>\n",
       "    <tr>\n",
       "      <th>14</th>\n",
       "      <td>Mes</td>\n",
       "      <td>Mes</td>\n",
       "      <td>Mes-9</td>\n",
       "      <td>277</td>\n",
       "    </tr>\n",
       "    <tr>\n",
       "      <th>15</th>\n",
       "      <td>Ctrl</td>\n",
       "      <td>PosCtrl</td>\n",
       "      <td>CA1a</td>\n",
       "      <td>214</td>\n",
       "    </tr>\n",
       "    <tr>\n",
       "      <th>16</th>\n",
       "      <td>Ctrl</td>\n",
       "      <td>PosCtrl</td>\n",
       "      <td>CA1a</td>\n",
       "      <td>290</td>\n",
       "    </tr>\n",
       "    <tr>\n",
       "      <th>17</th>\n",
       "      <td>Ctrl</td>\n",
       "      <td>PosCtrl</td>\n",
       "      <td>CA1a</td>\n",
       "      <td>195</td>\n",
       "    </tr>\n",
       "    <tr>\n",
       "      <th>18</th>\n",
       "      <td>Par</td>\n",
       "      <td>Mix</td>\n",
       "      <td>Par-G</td>\n",
       "      <td>232</td>\n",
       "    </tr>\n",
       "    <tr>\n",
       "      <th>19</th>\n",
       "      <td>Par</td>\n",
       "      <td>Mix</td>\n",
       "      <td>Par-G</td>\n",
       "      <td>261</td>\n",
       "    </tr>\n",
       "    <tr>\n",
       "      <th>20</th>\n",
       "      <td>Par</td>\n",
       "      <td>Mix</td>\n",
       "      <td>Par-G</td>\n",
       "      <td>241</td>\n",
       "    </tr>\n",
       "    <tr>\n",
       "      <th>21</th>\n",
       "      <td>Mes</td>\n",
       "      <td>Mes</td>\n",
       "      <td>Mes-R10</td>\n",
       "      <td>434</td>\n",
       "    </tr>\n",
       "    <tr>\n",
       "      <th>22</th>\n",
       "      <td>Mes</td>\n",
       "      <td>Mes</td>\n",
       "      <td>Mes-R10</td>\n",
       "      <td>484</td>\n",
       "    </tr>\n",
       "    <tr>\n",
       "      <th>23</th>\n",
       "      <td>Mes</td>\n",
       "      <td>Mes</td>\n",
       "      <td>Mes-R10</td>\n",
       "      <td>465</td>\n",
       "    </tr>\n",
       "    <tr>\n",
       "      <th>24</th>\n",
       "      <td>Ep</td>\n",
       "      <td>Ep</td>\n",
       "      <td>Ep-R3</td>\n",
       "      <td>41</td>\n",
       "    </tr>\n",
       "    <tr>\n",
       "      <th>25</th>\n",
       "      <td>Ep</td>\n",
       "      <td>Ep</td>\n",
       "      <td>Ep-R3</td>\n",
       "      <td>31</td>\n",
       "    </tr>\n",
       "    <tr>\n",
       "      <th>26</th>\n",
       "      <td>Ep</td>\n",
       "      <td>Ep</td>\n",
       "      <td>Ep-R3</td>\n",
       "      <td>33</td>\n",
       "    </tr>\n",
       "    <tr>\n",
       "      <th>27</th>\n",
       "      <td>Par</td>\n",
       "      <td>Mix</td>\n",
       "      <td>Par-R</td>\n",
       "      <td>112</td>\n",
       "    </tr>\n",
       "    <tr>\n",
       "      <th>28</th>\n",
       "      <td>Par</td>\n",
       "      <td>Mix</td>\n",
       "      <td>Par-R</td>\n",
       "      <td>113</td>\n",
       "    </tr>\n",
       "    <tr>\n",
       "      <th>29</th>\n",
       "      <td>Par</td>\n",
       "      <td>Mix</td>\n",
       "      <td>Par-R</td>\n",
       "      <td>124</td>\n",
       "    </tr>\n",
       "  </tbody>\n",
       "</table>\n",
       "</div>"
      ],
      "text/plain": [
       "    Type Phenotype    Label  Counts\n",
       "0    Mix       Mix   Par-22      80\n",
       "1    Mix       Mix   Par-22      73\n",
       "2    Mix       Mix   Par-22      64\n",
       "3     Ep        Ep     Ep-4      18\n",
       "4     Ep        Ep     Ep-4      18\n",
       "5     Ep        Ep     Ep-4      15\n",
       "6    Mes       Mes    Mes-7      70\n",
       "7    Mes       Mes    Mes-7      90\n",
       "8    Mes       Mes    Mes-7      52\n",
       "9     Ep        Ep     Ep-8      24\n",
       "10    Ep        Ep     Ep-8      45\n",
       "11    Ep        Ep     Ep-8      15\n",
       "12   Mes       Mes    Mes-9     369\n",
       "13   Mes       Mes    Mes-9     357\n",
       "14   Mes       Mes    Mes-9     277\n",
       "15  Ctrl   PosCtrl     CA1a     214\n",
       "16  Ctrl   PosCtrl     CA1a     290\n",
       "17  Ctrl   PosCtrl     CA1a     195\n",
       "18   Par       Mix    Par-G     232\n",
       "19   Par       Mix    Par-G     261\n",
       "20   Par       Mix    Par-G     241\n",
       "21   Mes       Mes  Mes-R10     434\n",
       "22   Mes       Mes  Mes-R10     484\n",
       "23   Mes       Mes  Mes-R10     465\n",
       "24    Ep        Ep    Ep-R3      41\n",
       "25    Ep        Ep    Ep-R3      31\n",
       "26    Ep        Ep    Ep-R3      33\n",
       "27   Par       Mix    Par-R     112\n",
       "28   Par       Mix    Par-R     113\n",
       "29   Par       Mix    Par-R     124"
      ]
     },
     "execution_count": 225,
     "metadata": {},
     "output_type": "execute_result"
    }
   ],
   "source": [
    "counts=pd.read_csv(\"/Volumes/Amanda4TB/gartnerlab/1heterogeneityproject/soft agar/single cell soft agar test 1 start date 20170224 and 20170228 for at 9 and at9 crystal violet staining/quantification/20170224CountsCur.csv\")\n",
    "counts"
   ]
  },
  {
   "cell_type": "markdown",
   "metadata": {},
   "source": [
    "**The describe() function** contains most of the common descriptors"
   ]
  },
  {
   "cell_type": "code",
   "execution_count": 226,
   "metadata": {
    "collapsed": false
   },
   "outputs": [
    {
     "data": {
      "text/html": [
       "<div>\n",
       "<table border=\"1\" class=\"dataframe\">\n",
       "  <thead>\n",
       "    <tr style=\"text-align: right;\">\n",
       "      <th></th>\n",
       "      <th></th>\n",
       "      <th></th>\n",
       "      <th>Counts</th>\n",
       "    </tr>\n",
       "    <tr>\n",
       "      <th>Phenotype</th>\n",
       "      <th>Label</th>\n",
       "      <th></th>\n",
       "      <th></th>\n",
       "    </tr>\n",
       "  </thead>\n",
       "  <tbody>\n",
       "    <tr>\n",
       "      <th rowspan=\"24\" valign=\"top\">Ep</th>\n",
       "      <th rowspan=\"8\" valign=\"top\">Ep-4</th>\n",
       "      <th>count</th>\n",
       "      <td>3.000000</td>\n",
       "    </tr>\n",
       "    <tr>\n",
       "      <th>mean</th>\n",
       "      <td>17.000000</td>\n",
       "    </tr>\n",
       "    <tr>\n",
       "      <th>std</th>\n",
       "      <td>1.732051</td>\n",
       "    </tr>\n",
       "    <tr>\n",
       "      <th>min</th>\n",
       "      <td>15.000000</td>\n",
       "    </tr>\n",
       "    <tr>\n",
       "      <th>25%</th>\n",
       "      <td>16.500000</td>\n",
       "    </tr>\n",
       "    <tr>\n",
       "      <th>50%</th>\n",
       "      <td>18.000000</td>\n",
       "    </tr>\n",
       "    <tr>\n",
       "      <th>75%</th>\n",
       "      <td>18.000000</td>\n",
       "    </tr>\n",
       "    <tr>\n",
       "      <th>max</th>\n",
       "      <td>18.000000</td>\n",
       "    </tr>\n",
       "    <tr>\n",
       "      <th rowspan=\"8\" valign=\"top\">Ep-8</th>\n",
       "      <th>count</th>\n",
       "      <td>3.000000</td>\n",
       "    </tr>\n",
       "    <tr>\n",
       "      <th>mean</th>\n",
       "      <td>28.000000</td>\n",
       "    </tr>\n",
       "    <tr>\n",
       "      <th>std</th>\n",
       "      <td>15.394804</td>\n",
       "    </tr>\n",
       "    <tr>\n",
       "      <th>min</th>\n",
       "      <td>15.000000</td>\n",
       "    </tr>\n",
       "    <tr>\n",
       "      <th>25%</th>\n",
       "      <td>19.500000</td>\n",
       "    </tr>\n",
       "    <tr>\n",
       "      <th>50%</th>\n",
       "      <td>24.000000</td>\n",
       "    </tr>\n",
       "    <tr>\n",
       "      <th>75%</th>\n",
       "      <td>34.500000</td>\n",
       "    </tr>\n",
       "    <tr>\n",
       "      <th>max</th>\n",
       "      <td>45.000000</td>\n",
       "    </tr>\n",
       "    <tr>\n",
       "      <th rowspan=\"8\" valign=\"top\">Ep-R3</th>\n",
       "      <th>count</th>\n",
       "      <td>3.000000</td>\n",
       "    </tr>\n",
       "    <tr>\n",
       "      <th>mean</th>\n",
       "      <td>35.000000</td>\n",
       "    </tr>\n",
       "    <tr>\n",
       "      <th>std</th>\n",
       "      <td>5.291503</td>\n",
       "    </tr>\n",
       "    <tr>\n",
       "      <th>min</th>\n",
       "      <td>31.000000</td>\n",
       "    </tr>\n",
       "    <tr>\n",
       "      <th>25%</th>\n",
       "      <td>32.000000</td>\n",
       "    </tr>\n",
       "    <tr>\n",
       "      <th>50%</th>\n",
       "      <td>33.000000</td>\n",
       "    </tr>\n",
       "    <tr>\n",
       "      <th>75%</th>\n",
       "      <td>37.000000</td>\n",
       "    </tr>\n",
       "    <tr>\n",
       "      <th>max</th>\n",
       "      <td>41.000000</td>\n",
       "    </tr>\n",
       "    <tr>\n",
       "      <th rowspan=\"6\" valign=\"top\">Mes</th>\n",
       "      <th rowspan=\"6\" valign=\"top\">Mes-7</th>\n",
       "      <th>count</th>\n",
       "      <td>3.000000</td>\n",
       "    </tr>\n",
       "    <tr>\n",
       "      <th>mean</th>\n",
       "      <td>70.666667</td>\n",
       "    </tr>\n",
       "    <tr>\n",
       "      <th>std</th>\n",
       "      <td>19.008770</td>\n",
       "    </tr>\n",
       "    <tr>\n",
       "      <th>min</th>\n",
       "      <td>52.000000</td>\n",
       "    </tr>\n",
       "    <tr>\n",
       "      <th>25%</th>\n",
       "      <td>61.000000</td>\n",
       "    </tr>\n",
       "    <tr>\n",
       "      <th>50%</th>\n",
       "      <td>70.000000</td>\n",
       "    </tr>\n",
       "    <tr>\n",
       "      <th>...</th>\n",
       "      <th>...</th>\n",
       "      <th>...</th>\n",
       "      <td>...</td>\n",
       "    </tr>\n",
       "    <tr>\n",
       "      <th rowspan=\"22\" valign=\"top\">Mix</th>\n",
       "      <th rowspan=\"6\" valign=\"top\">Par-22</th>\n",
       "      <th>std</th>\n",
       "      <td>8.020806</td>\n",
       "    </tr>\n",
       "    <tr>\n",
       "      <th>min</th>\n",
       "      <td>64.000000</td>\n",
       "    </tr>\n",
       "    <tr>\n",
       "      <th>25%</th>\n",
       "      <td>68.500000</td>\n",
       "    </tr>\n",
       "    <tr>\n",
       "      <th>50%</th>\n",
       "      <td>73.000000</td>\n",
       "    </tr>\n",
       "    <tr>\n",
       "      <th>75%</th>\n",
       "      <td>76.500000</td>\n",
       "    </tr>\n",
       "    <tr>\n",
       "      <th>max</th>\n",
       "      <td>80.000000</td>\n",
       "    </tr>\n",
       "    <tr>\n",
       "      <th rowspan=\"8\" valign=\"top\">Par-G</th>\n",
       "      <th>count</th>\n",
       "      <td>3.000000</td>\n",
       "    </tr>\n",
       "    <tr>\n",
       "      <th>mean</th>\n",
       "      <td>244.666667</td>\n",
       "    </tr>\n",
       "    <tr>\n",
       "      <th>std</th>\n",
       "      <td>14.843629</td>\n",
       "    </tr>\n",
       "    <tr>\n",
       "      <th>min</th>\n",
       "      <td>232.000000</td>\n",
       "    </tr>\n",
       "    <tr>\n",
       "      <th>25%</th>\n",
       "      <td>236.500000</td>\n",
       "    </tr>\n",
       "    <tr>\n",
       "      <th>50%</th>\n",
       "      <td>241.000000</td>\n",
       "    </tr>\n",
       "    <tr>\n",
       "      <th>75%</th>\n",
       "      <td>251.000000</td>\n",
       "    </tr>\n",
       "    <tr>\n",
       "      <th>max</th>\n",
       "      <td>261.000000</td>\n",
       "    </tr>\n",
       "    <tr>\n",
       "      <th rowspan=\"8\" valign=\"top\">Par-R</th>\n",
       "      <th>count</th>\n",
       "      <td>3.000000</td>\n",
       "    </tr>\n",
       "    <tr>\n",
       "      <th>mean</th>\n",
       "      <td>116.333333</td>\n",
       "    </tr>\n",
       "    <tr>\n",
       "      <th>std</th>\n",
       "      <td>6.658328</td>\n",
       "    </tr>\n",
       "    <tr>\n",
       "      <th>min</th>\n",
       "      <td>112.000000</td>\n",
       "    </tr>\n",
       "    <tr>\n",
       "      <th>25%</th>\n",
       "      <td>112.500000</td>\n",
       "    </tr>\n",
       "    <tr>\n",
       "      <th>50%</th>\n",
       "      <td>113.000000</td>\n",
       "    </tr>\n",
       "    <tr>\n",
       "      <th>75%</th>\n",
       "      <td>118.500000</td>\n",
       "    </tr>\n",
       "    <tr>\n",
       "      <th>max</th>\n",
       "      <td>124.000000</td>\n",
       "    </tr>\n",
       "    <tr>\n",
       "      <th rowspan=\"8\" valign=\"top\">PosCtrl</th>\n",
       "      <th rowspan=\"8\" valign=\"top\">CA1a</th>\n",
       "      <th>count</th>\n",
       "      <td>3.000000</td>\n",
       "    </tr>\n",
       "    <tr>\n",
       "      <th>mean</th>\n",
       "      <td>233.000000</td>\n",
       "    </tr>\n",
       "    <tr>\n",
       "      <th>std</th>\n",
       "      <td>50.269275</td>\n",
       "    </tr>\n",
       "    <tr>\n",
       "      <th>min</th>\n",
       "      <td>195.000000</td>\n",
       "    </tr>\n",
       "    <tr>\n",
       "      <th>25%</th>\n",
       "      <td>204.500000</td>\n",
       "    </tr>\n",
       "    <tr>\n",
       "      <th>50%</th>\n",
       "      <td>214.000000</td>\n",
       "    </tr>\n",
       "    <tr>\n",
       "      <th>75%</th>\n",
       "      <td>252.000000</td>\n",
       "    </tr>\n",
       "    <tr>\n",
       "      <th>max</th>\n",
       "      <td>290.000000</td>\n",
       "    </tr>\n",
       "  </tbody>\n",
       "</table>\n",
       "<p>80 rows × 1 columns</p>\n",
       "</div>"
      ],
      "text/plain": [
       "                            Counts\n",
       "Phenotype Label                   \n",
       "Ep        Ep-4   count    3.000000\n",
       "                 mean    17.000000\n",
       "                 std      1.732051\n",
       "                 min     15.000000\n",
       "                 25%     16.500000\n",
       "                 50%     18.000000\n",
       "                 75%     18.000000\n",
       "                 max     18.000000\n",
       "          Ep-8   count    3.000000\n",
       "                 mean    28.000000\n",
       "                 std     15.394804\n",
       "                 min     15.000000\n",
       "                 25%     19.500000\n",
       "                 50%     24.000000\n",
       "                 75%     34.500000\n",
       "                 max     45.000000\n",
       "          Ep-R3  count    3.000000\n",
       "                 mean    35.000000\n",
       "                 std      5.291503\n",
       "                 min     31.000000\n",
       "                 25%     32.000000\n",
       "                 50%     33.000000\n",
       "                 75%     37.000000\n",
       "                 max     41.000000\n",
       "Mes       Mes-7  count    3.000000\n",
       "                 mean    70.666667\n",
       "                 std     19.008770\n",
       "                 min     52.000000\n",
       "                 25%     61.000000\n",
       "                 50%     70.000000\n",
       "...                            ...\n",
       "Mix       Par-22 std      8.020806\n",
       "                 min     64.000000\n",
       "                 25%     68.500000\n",
       "                 50%     73.000000\n",
       "                 75%     76.500000\n",
       "                 max     80.000000\n",
       "          Par-G  count    3.000000\n",
       "                 mean   244.666667\n",
       "                 std     14.843629\n",
       "                 min    232.000000\n",
       "                 25%    236.500000\n",
       "                 50%    241.000000\n",
       "                 75%    251.000000\n",
       "                 max    261.000000\n",
       "          Par-R  count    3.000000\n",
       "                 mean   116.333333\n",
       "                 std      6.658328\n",
       "                 min    112.000000\n",
       "                 25%    112.500000\n",
       "                 50%    113.000000\n",
       "                 75%    118.500000\n",
       "                 max    124.000000\n",
       "PosCtrl   CA1a   count    3.000000\n",
       "                 mean   233.000000\n",
       "                 std     50.269275\n",
       "                 min    195.000000\n",
       "                 25%    204.500000\n",
       "                 50%    214.000000\n",
       "                 75%    252.000000\n",
       "                 max    290.000000\n",
       "\n",
       "[80 rows x 1 columns]"
      ]
     },
     "execution_count": 226,
     "metadata": {},
     "output_type": "execute_result"
    }
   ],
   "source": [
    "counts_each=counts.groupby((\"Phenotype\",\"Label\"))\n",
    "counts_each.describe()"
   ]
  },
  {
   "cell_type": "markdown",
   "metadata": {},
   "source": [
    "### Variance and Quantile"
   ]
  },
  {
   "cell_type": "code",
   "execution_count": 227,
   "metadata": {
    "collapsed": false
   },
   "outputs": [
    {
     "data": {
      "text/html": [
       "<div>\n",
       "<table border=\"1\" class=\"dataframe\">\n",
       "  <thead>\n",
       "    <tr style=\"text-align: right;\">\n",
       "      <th></th>\n",
       "      <th></th>\n",
       "      <th>Counts</th>\n",
       "    </tr>\n",
       "    <tr>\n",
       "      <th>Phenotype</th>\n",
       "      <th>Label</th>\n",
       "      <th></th>\n",
       "    </tr>\n",
       "  </thead>\n",
       "  <tbody>\n",
       "    <tr>\n",
       "      <th rowspan=\"3\" valign=\"top\">Ep</th>\n",
       "      <th>Ep-4</th>\n",
       "      <td>3.000000</td>\n",
       "    </tr>\n",
       "    <tr>\n",
       "      <th>Ep-8</th>\n",
       "      <td>237.000000</td>\n",
       "    </tr>\n",
       "    <tr>\n",
       "      <th>Ep-R3</th>\n",
       "      <td>28.000000</td>\n",
       "    </tr>\n",
       "    <tr>\n",
       "      <th rowspan=\"3\" valign=\"top\">Mes</th>\n",
       "      <th>Mes-7</th>\n",
       "      <td>361.333333</td>\n",
       "    </tr>\n",
       "    <tr>\n",
       "      <th>Mes-9</th>\n",
       "      <td>2501.333333</td>\n",
       "    </tr>\n",
       "    <tr>\n",
       "      <th>Mes-R10</th>\n",
       "      <td>637.000000</td>\n",
       "    </tr>\n",
       "    <tr>\n",
       "      <th rowspan=\"3\" valign=\"top\">Mix</th>\n",
       "      <th>Par-22</th>\n",
       "      <td>64.333333</td>\n",
       "    </tr>\n",
       "    <tr>\n",
       "      <th>Par-G</th>\n",
       "      <td>220.333333</td>\n",
       "    </tr>\n",
       "    <tr>\n",
       "      <th>Par-R</th>\n",
       "      <td>44.333333</td>\n",
       "    </tr>\n",
       "    <tr>\n",
       "      <th>PosCtrl</th>\n",
       "      <th>CA1a</th>\n",
       "      <td>2527.000000</td>\n",
       "    </tr>\n",
       "  </tbody>\n",
       "</table>\n",
       "</div>"
      ],
      "text/plain": [
       "                        Counts\n",
       "Phenotype Label               \n",
       "Ep        Ep-4        3.000000\n",
       "          Ep-8      237.000000\n",
       "          Ep-R3      28.000000\n",
       "Mes       Mes-7     361.333333\n",
       "          Mes-9    2501.333333\n",
       "          Mes-R10   637.000000\n",
       "Mix       Par-22     64.333333\n",
       "          Par-G     220.333333\n",
       "          Par-R      44.333333\n",
       "PosCtrl   CA1a     2527.000000"
      ]
     },
     "execution_count": 227,
     "metadata": {},
     "output_type": "execute_result"
    }
   ],
   "source": [
    "counts_each.var()"
   ]
  },
  {
   "cell_type": "markdown",
   "metadata": {},
   "source": [
    "or just square the std dev"
   ]
  },
  {
   "cell_type": "markdown",
   "metadata": {},
   "source": [
    "**The quantile() function** takes the 50th percentile as a default, but we can change that with arguments. (this gives you any percentile you want)"
   ]
  },
  {
   "cell_type": "code",
   "execution_count": 228,
   "metadata": {
    "collapsed": false,
    "scrolled": false
   },
   "outputs": [
    {
     "data": {
      "text/html": [
       "<div>\n",
       "<table border=\"1\" class=\"dataframe\">\n",
       "  <thead>\n",
       "    <tr style=\"text-align: right;\">\n",
       "      <th></th>\n",
       "      <th>0.5</th>\n",
       "      <th>Counts</th>\n",
       "    </tr>\n",
       "    <tr>\n",
       "      <th>Phenotype</th>\n",
       "      <th>Label</th>\n",
       "      <th></th>\n",
       "    </tr>\n",
       "  </thead>\n",
       "  <tbody>\n",
       "    <tr>\n",
       "      <th rowspan=\"3\" valign=\"top\">Ep</th>\n",
       "      <th>Ep-4</th>\n",
       "      <td>18.0</td>\n",
       "    </tr>\n",
       "    <tr>\n",
       "      <th>Ep-8</th>\n",
       "      <td>24.0</td>\n",
       "    </tr>\n",
       "    <tr>\n",
       "      <th>Ep-R3</th>\n",
       "      <td>33.0</td>\n",
       "    </tr>\n",
       "    <tr>\n",
       "      <th rowspan=\"3\" valign=\"top\">Mes</th>\n",
       "      <th>Mes-7</th>\n",
       "      <td>70.0</td>\n",
       "    </tr>\n",
       "    <tr>\n",
       "      <th>Mes-9</th>\n",
       "      <td>357.0</td>\n",
       "    </tr>\n",
       "    <tr>\n",
       "      <th>Mes-R10</th>\n",
       "      <td>465.0</td>\n",
       "    </tr>\n",
       "    <tr>\n",
       "      <th rowspan=\"3\" valign=\"top\">Mix</th>\n",
       "      <th>Par-22</th>\n",
       "      <td>73.0</td>\n",
       "    </tr>\n",
       "    <tr>\n",
       "      <th>Par-G</th>\n",
       "      <td>241.0</td>\n",
       "    </tr>\n",
       "    <tr>\n",
       "      <th>Par-R</th>\n",
       "      <td>113.0</td>\n",
       "    </tr>\n",
       "    <tr>\n",
       "      <th>PosCtrl</th>\n",
       "      <th>CA1a</th>\n",
       "      <td>214.0</td>\n",
       "    </tr>\n",
       "  </tbody>\n",
       "</table>\n",
       "</div>"
      ],
      "text/plain": [
       "0.5                Counts\n",
       "Phenotype Label          \n",
       "Ep        Ep-4       18.0\n",
       "          Ep-8       24.0\n",
       "          Ep-R3      33.0\n",
       "Mes       Mes-7      70.0\n",
       "          Mes-9     357.0\n",
       "          Mes-R10   465.0\n",
       "Mix       Par-22     73.0\n",
       "          Par-G     241.0\n",
       "          Par-R     113.0\n",
       "PosCtrl   CA1a      214.0"
      ]
     },
     "execution_count": 228,
     "metadata": {},
     "output_type": "execute_result"
    }
   ],
   "source": [
    "counts_each.quantile()"
   ]
  },
  {
   "cell_type": "markdown",
   "metadata": {},
   "source": [
    "*You can use groupby for multiple categories* "
   ]
  },
  {
   "cell_type": "markdown",
   "metadata": {},
   "source": [
    "# Plotting for Statistical Data\n",
    "### The seaborn module\n",
    "- built on matplotlib\n",
    "- great representation of open source\n",
    "- made for statistical data visualisation\n",
    "\n",
    "The syntax is a little different.\n",
    "\n",
    "DATAFRAME_NAME['COLUMN_NAME']\n",
    "\n",
    "Seaborn is built to handle data frames so you don't have to put the dataframe name in front"
   ]
  },
  {
   "cell_type": "code",
   "execution_count": 315,
   "metadata": {
    "collapsed": false,
    "scrolled": false
   },
   "outputs": [
    {
     "data": {
      "image/png": "[encoded data removed]",
      "text/plain": [
       "<matplotlib.figure.Figure at 0x135f76410>"
      ]
     },
     "metadata": {},
     "output_type": "display_data"
    }
   ],
   "source": [
    "sns.choose_colorbrewer_palette(data_type='qual', as_cmap=False)"
   ]
  },
  {
   "cell_type": "markdown",
   "metadata": {},
   "source": [
    "A better histogram: color code based on class. Visualization equivalent of groupby."
   ]
  },
  {
   "cell_type": "code",
   "execution_count": 387,
   "metadata": {
    "collapsed": false,
    "scrolled": false
   },
   "outputs": [
    {
     "data": {
      "image/png": "[encoded data removed]",
      "text/plain": [
       "<matplotlib.figure.Figure at 0x139652e10>"
      ]
     },
     "metadata": {},
     "output_type": "display_data"
    }
   ],
   "source": [
    "#palette: default: deep, muted, pastel, bright, dark, and colorblind. others: hls, \n",
    "sns.set_style(\"whitegrid\")\n",
    "sq=4\n",
    "fig, ax = plt.subplots(figsize=(sq,sq))\n",
    "sns.stripplot(x='Phenotype', \n",
    "                    y=\"Counts\",\n",
    "                    data=counts, \n",
    "                    hue='Label', \n",
    "                    hue_order=['Par-G', 'Par-R', 'Par-22', \n",
    "                               'Ep-4', 'Ep-8', 'Ep-R3', \n",
    "                               'Mes-R10', 'Mes-9', 'Mes-7', \n",
    "                               'CA1a'],\n",
    "                    size=10,\n",
    "                    jitter=True,\n",
    "                    palette=sns.xkcd_palette(('royal blue',\n",
    "                                            'blue',\n",
    "                                            'light blue',\n",
    "                                            'forest green',\n",
    "                                            'green',\n",
    "                                            'light green',\n",
    "                                            'dark orange',\n",
    "                                            'orange',\n",
    "                                            'light orange',\n",
    "                                             'pink'\n",
    "                                            )),\n",
    "                    ax=ax\n",
    "                    )\n",
    "leg=ax.legend(loc='center left', bbox_to_anchor=(1, 0.5))\n",
    "fig.savefig('/Volumes/Amanda4TB/gartnerlab/1heterogeneityproject/soft agar/single cell soft agar test 1 start date 20170224 and 20170228 for at 9 and at9 crystal violet staining/quantification/20170442Figure.svg',bbox_inches='tight')"
   ]
  },
  {
   "cell_type": "code",
   "execution_count": 394,
   "metadata": {
    "collapsed": false
   },
   "outputs": [
    {
     "data": {
      "text/plain": [
       "<matplotlib.legend.Legend at 0x1350d3510>"
      ]
     },
     "execution_count": 394,
     "metadata": {},
     "output_type": "execute_result"
    }
   ],
   "source": [
    "#kind : {point, bar, count, box, violin, strip}\n",
    "'''ax=sns.factorplot(x='Phenotype', \n",
    "                   y=\"Counts\",\n",
    "                   data=counts, \n",
    "                   hue='Label', \n",
    "                   kind='strip', \n",
    "                   size=6,\n",
    "                   jitter=True,\n",
    "                   palette=\"colorblind\",\n",
    "                   legend=False,\n",
    "                   #facet_kws={'subplot_kws':{'size':25}}\n",
    "                   )'''\n",
    "\n",
    "leg"
   ]
  },
  {
   "cell_type": "code",
   "execution_count": 233,
   "metadata": {
    "collapsed": false,
    "scrolled": true
   },
   "outputs": [
    {
     "data": {
      "text/html": [
       "<div>\n",
       "<table border=\"1\" class=\"dataframe\">\n",
       "  <thead>\n",
       "    <tr style=\"text-align: right;\">\n",
       "      <th>Phenotype</th>\n",
       "      <th>Ep</th>\n",
       "      <th>Mes</th>\n",
       "      <th>Mix</th>\n",
       "      <th>PosCtrl</th>\n",
       "    </tr>\n",
       "  </thead>\n",
       "  <tbody>\n",
       "    <tr>\n",
       "      <th>0</th>\n",
       "      <td>NaN</td>\n",
       "      <td>NaN</td>\n",
       "      <td>80.0</td>\n",
       "      <td>NaN</td>\n",
       "    </tr>\n",
       "    <tr>\n",
       "      <th>1</th>\n",
       "      <td>NaN</td>\n",
       "      <td>NaN</td>\n",
       "      <td>73.0</td>\n",
       "      <td>NaN</td>\n",
       "    </tr>\n",
       "    <tr>\n",
       "      <th>2</th>\n",
       "      <td>NaN</td>\n",
       "      <td>NaN</td>\n",
       "      <td>64.0</td>\n",
       "      <td>NaN</td>\n",
       "    </tr>\n",
       "    <tr>\n",
       "      <th>3</th>\n",
       "      <td>18.0</td>\n",
       "      <td>NaN</td>\n",
       "      <td>NaN</td>\n",
       "      <td>NaN</td>\n",
       "    </tr>\n",
       "    <tr>\n",
       "      <th>4</th>\n",
       "      <td>18.0</td>\n",
       "      <td>NaN</td>\n",
       "      <td>NaN</td>\n",
       "      <td>NaN</td>\n",
       "    </tr>\n",
       "    <tr>\n",
       "      <th>5</th>\n",
       "      <td>15.0</td>\n",
       "      <td>NaN</td>\n",
       "      <td>NaN</td>\n",
       "      <td>NaN</td>\n",
       "    </tr>\n",
       "    <tr>\n",
       "      <th>6</th>\n",
       "      <td>NaN</td>\n",
       "      <td>70.0</td>\n",
       "      <td>NaN</td>\n",
       "      <td>NaN</td>\n",
       "    </tr>\n",
       "    <tr>\n",
       "      <th>7</th>\n",
       "      <td>NaN</td>\n",
       "      <td>90.0</td>\n",
       "      <td>NaN</td>\n",
       "      <td>NaN</td>\n",
       "    </tr>\n",
       "    <tr>\n",
       "      <th>8</th>\n",
       "      <td>NaN</td>\n",
       "      <td>52.0</td>\n",
       "      <td>NaN</td>\n",
       "      <td>NaN</td>\n",
       "    </tr>\n",
       "    <tr>\n",
       "      <th>9</th>\n",
       "      <td>24.0</td>\n",
       "      <td>NaN</td>\n",
       "      <td>NaN</td>\n",
       "      <td>NaN</td>\n",
       "    </tr>\n",
       "    <tr>\n",
       "      <th>10</th>\n",
       "      <td>45.0</td>\n",
       "      <td>NaN</td>\n",
       "      <td>NaN</td>\n",
       "      <td>NaN</td>\n",
       "    </tr>\n",
       "    <tr>\n",
       "      <th>11</th>\n",
       "      <td>15.0</td>\n",
       "      <td>NaN</td>\n",
       "      <td>NaN</td>\n",
       "      <td>NaN</td>\n",
       "    </tr>\n",
       "    <tr>\n",
       "      <th>12</th>\n",
       "      <td>NaN</td>\n",
       "      <td>369.0</td>\n",
       "      <td>NaN</td>\n",
       "      <td>NaN</td>\n",
       "    </tr>\n",
       "    <tr>\n",
       "      <th>13</th>\n",
       "      <td>NaN</td>\n",
       "      <td>357.0</td>\n",
       "      <td>NaN</td>\n",
       "      <td>NaN</td>\n",
       "    </tr>\n",
       "    <tr>\n",
       "      <th>14</th>\n",
       "      <td>NaN</td>\n",
       "      <td>277.0</td>\n",
       "      <td>NaN</td>\n",
       "      <td>NaN</td>\n",
       "    </tr>\n",
       "    <tr>\n",
       "      <th>15</th>\n",
       "      <td>NaN</td>\n",
       "      <td>NaN</td>\n",
       "      <td>NaN</td>\n",
       "      <td>214.0</td>\n",
       "    </tr>\n",
       "    <tr>\n",
       "      <th>16</th>\n",
       "      <td>NaN</td>\n",
       "      <td>NaN</td>\n",
       "      <td>NaN</td>\n",
       "      <td>290.0</td>\n",
       "    </tr>\n",
       "    <tr>\n",
       "      <th>17</th>\n",
       "      <td>NaN</td>\n",
       "      <td>NaN</td>\n",
       "      <td>NaN</td>\n",
       "      <td>195.0</td>\n",
       "    </tr>\n",
       "    <tr>\n",
       "      <th>18</th>\n",
       "      <td>NaN</td>\n",
       "      <td>NaN</td>\n",
       "      <td>232.0</td>\n",
       "      <td>NaN</td>\n",
       "    </tr>\n",
       "    <tr>\n",
       "      <th>19</th>\n",
       "      <td>NaN</td>\n",
       "      <td>NaN</td>\n",
       "      <td>261.0</td>\n",
       "      <td>NaN</td>\n",
       "    </tr>\n",
       "    <tr>\n",
       "      <th>20</th>\n",
       "      <td>NaN</td>\n",
       "      <td>NaN</td>\n",
       "      <td>241.0</td>\n",
       "      <td>NaN</td>\n",
       "    </tr>\n",
       "    <tr>\n",
       "      <th>21</th>\n",
       "      <td>NaN</td>\n",
       "      <td>434.0</td>\n",
       "      <td>NaN</td>\n",
       "      <td>NaN</td>\n",
       "    </tr>\n",
       "    <tr>\n",
       "      <th>22</th>\n",
       "      <td>NaN</td>\n",
       "      <td>484.0</td>\n",
       "      <td>NaN</td>\n",
       "      <td>NaN</td>\n",
       "    </tr>\n",
       "    <tr>\n",
       "      <th>23</th>\n",
       "      <td>NaN</td>\n",
       "      <td>465.0</td>\n",
       "      <td>NaN</td>\n",
       "      <td>NaN</td>\n",
       "    </tr>\n",
       "    <tr>\n",
       "      <th>24</th>\n",
       "      <td>41.0</td>\n",
       "      <td>NaN</td>\n",
       "      <td>NaN</td>\n",
       "      <td>NaN</td>\n",
       "    </tr>\n",
       "    <tr>\n",
       "      <th>25</th>\n",
       "      <td>31.0</td>\n",
       "      <td>NaN</td>\n",
       "      <td>NaN</td>\n",
       "      <td>NaN</td>\n",
       "    </tr>\n",
       "    <tr>\n",
       "      <th>26</th>\n",
       "      <td>33.0</td>\n",
       "      <td>NaN</td>\n",
       "      <td>NaN</td>\n",
       "      <td>NaN</td>\n",
       "    </tr>\n",
       "    <tr>\n",
       "      <th>27</th>\n",
       "      <td>NaN</td>\n",
       "      <td>NaN</td>\n",
       "      <td>112.0</td>\n",
       "      <td>NaN</td>\n",
       "    </tr>\n",
       "    <tr>\n",
       "      <th>28</th>\n",
       "      <td>NaN</td>\n",
       "      <td>NaN</td>\n",
       "      <td>113.0</td>\n",
       "      <td>NaN</td>\n",
       "    </tr>\n",
       "    <tr>\n",
       "      <th>29</th>\n",
       "      <td>NaN</td>\n",
       "      <td>NaN</td>\n",
       "      <td>124.0</td>\n",
       "      <td>NaN</td>\n",
       "    </tr>\n",
       "  </tbody>\n",
       "</table>\n",
       "</div>"
      ],
      "text/plain": [
       "Phenotype    Ep    Mes    Mix  PosCtrl\n",
       "0           NaN    NaN   80.0      NaN\n",
       "1           NaN    NaN   73.0      NaN\n",
       "2           NaN    NaN   64.0      NaN\n",
       "3          18.0    NaN    NaN      NaN\n",
       "4          18.0    NaN    NaN      NaN\n",
       "5          15.0    NaN    NaN      NaN\n",
       "6           NaN   70.0    NaN      NaN\n",
       "7           NaN   90.0    NaN      NaN\n",
       "8           NaN   52.0    NaN      NaN\n",
       "9          24.0    NaN    NaN      NaN\n",
       "10         45.0    NaN    NaN      NaN\n",
       "11         15.0    NaN    NaN      NaN\n",
       "12          NaN  369.0    NaN      NaN\n",
       "13          NaN  357.0    NaN      NaN\n",
       "14          NaN  277.0    NaN      NaN\n",
       "15          NaN    NaN    NaN    214.0\n",
       "16          NaN    NaN    NaN    290.0\n",
       "17          NaN    NaN    NaN    195.0\n",
       "18          NaN    NaN  232.0      NaN\n",
       "19          NaN    NaN  261.0      NaN\n",
       "20          NaN    NaN  241.0      NaN\n",
       "21          NaN  434.0    NaN      NaN\n",
       "22          NaN  484.0    NaN      NaN\n",
       "23          NaN  465.0    NaN      NaN\n",
       "24         41.0    NaN    NaN      NaN\n",
       "25         31.0    NaN    NaN      NaN\n",
       "26         33.0    NaN    NaN      NaN\n",
       "27          NaN    NaN  112.0      NaN\n",
       "28          NaN    NaN  113.0      NaN\n",
       "29          NaN    NaN  124.0      NaN"
      ]
     },
     "execution_count": 233,
     "metadata": {},
     "output_type": "execute_result"
    }
   ],
   "source": [
    "counts_pivoted=counts.pivot(columns=\"Phenotype\", values='Counts')\n",
    "counts_pivoted"
   ]
  },
  {
   "cell_type": "code",
   "execution_count": 338,
   "metadata": {
    "collapsed": false
   },
   "outputs": [
    {
     "data": {
      "text/plain": [
       "Ttest_indResult(statistic=-2.2581700590802578, pvalue=0.045105839504895023)"
      ]
     },
     "execution_count": 338,
     "metadata": {},
     "output_type": "execute_result"
    }
   ],
   "source": [
    "testMes=scipy.stats.ttest_ind(counts_pivoted.Mix, counts_pivoted.Mes, axis=0, equal_var=False, nan_policy='omit')\n",
    "testMes"
   ]
  },
  {
   "cell_type": "code",
   "execution_count": 339,
   "metadata": {
    "collapsed": false
   },
   "outputs": [
    {
     "data": {
      "text/plain": [
       "Ttest_indResult(statistic=4.4786677904836232, pvalue=0.0018576298152410185)"
      ]
     },
     "execution_count": 339,
     "metadata": {},
     "output_type": "execute_result"
    }
   ],
   "source": [
    "testEp=scipy.stats.ttest_ind(counts_pivoted.Mix, counts_pivoted.Ep, axis=0, equal_var=False, nan_policy='omit')\n",
    "testEp"
   ]
  },
  {
   "cell_type": "code",
   "execution_count": 340,
   "metadata": {
    "collapsed": false
   },
   "outputs": [
    {
     "data": {
      "text/plain": [
       "Ttest_indResult(statistic=-2.2717111524672799, pvalue=0.066608460499082853)"
      ]
     },
     "execution_count": 340,
     "metadata": {},
     "output_type": "execute_result"
    }
   ],
   "source": [
    "testCtrl=scipy.stats.ttest_ind(counts_pivoted.Mix, counts_pivoted.PosCtrl, axis=0, equal_var=False, nan_policy='omit')\n",
    "testCtrl"
   ]
  },
  {
   "cell_type": "markdown",
   "metadata": {},
   "source": [
    "### Styling\n",
    "seaborn allows us to set a context. There are lots, but the one that good for readability is 'poster'."
   ]
  },
  {
   "cell_type": "code",
   "execution_count": 64,
   "metadata": {
    "collapsed": false
   },
   "outputs": [],
   "source": [
    "#this holds for entire notebook\n",
    "sns.set_context('poster')"
   ]
  },
  {
   "cell_type": "markdown",
   "metadata": {},
   "source": [
    "We can modify the **size** and **aspect** arguments to resize our graph."
   ]
  },
  {
   "cell_type": "markdown",
   "metadata": {},
   "source": [
    "### Pairplot\n",
    "seaborn contains a plot called **pairplot()** that plots the histogram of each feature along with pairwise relationships between features. very handy for when you have multiple numeric features."
   ]
  },
  {
   "cell_type": "code",
   "execution_count": 464,
   "metadata": {
    "collapsed": false
   },
   "outputs": [
    {
     "data": {
      "image/png": "[encoded data removed]",
      "text/plain": [
       "<matplotlib.figure.Figure at 0x13a0f1c50>"
      ]
     },
     "metadata": {},
     "output_type": "display_data"
    }
   ],
   "source": [
    "#g = sns.pairplot(counts, hue='Phenotype', palette='husl', markers='d', size=5, diag_kind='kde')\n",
    "g = sns.PairGrid(counts, hue=\"Phenotype\", size=5)\n",
    "g = g.map_diag(sns.kdeplot, lw=3, legend=False)\n",
    "g = g.add_legend()"
   ]
  },
  {
   "cell_type": "code",
   "execution_count": 474,
   "metadata": {
    "collapsed": false,
    "scrolled": false
   },
   "outputs": [],
   "source": [
    "Mix=counts.loc[counts['Phenotype'] == 'Mix']\n",
    "Ep=counts.loc[counts['Phenotype'] == 'Ep']\n",
    "Mes=counts.loc[counts['Phenotype'] == 'Mes']\n",
    "PosCtrl=counts.loc[counts['Phenotype'] == 'PosCtrl']"
   ]
  },
  {
   "cell_type": "code",
   "execution_count": 489,
   "metadata": {
    "collapsed": false
   },
   "outputs": [
    {
     "data": {
      "text/plain": [
       "[None, None]"
      ]
     },
     "execution_count": 489,
     "metadata": {},
     "output_type": "execute_result"
    },
    {
     "data": {
      "image/png": "[encoded data removed]",
      "text/plain": [
       "<matplotlib.figure.Figure at 0x12ddb8d90>"
      ]
     },
     "metadata": {},
     "output_type": "display_data"
    }
   ],
   "source": [
    "fig, ax = plt.subplots(figsize=(6,6))\n",
    "sns.kdeplot(Mix.Counts)\n",
    "sns.kdeplot(Ep.Counts)\n",
    "sns.kdeplot(Mes.Counts)\n",
    "sns.kdeplot(PosCtrl.Counts)\n",
    "ax.legend(title=\"Phenotype\", labels=[\"Mix\",\"Ep\",\"Mes\", \"PosCtrl\"])\n",
    "plt.setp(ax.get_legend().get_title(), fontsize='16') # for legend title"
   ]
  },
  {
   "cell_type": "code",
   "execution_count": null,
   "metadata": {
    "collapsed": false
   },
   "outputs": [],
   "source": []
  },
  {
   "cell_type": "code",
   "execution_count": null,
   "metadata": {
    "collapsed": true
   },
   "outputs": [],
   "source": []
  }
 ],
 "metadata": {
  "anaconda-cloud": {},
  "kernelspec": {
   "display_name": "Python 2",
   "language": "python",
   "name": "python2"
  },
  "language_info": {
   "codemirror_mode": {
    "name": "ipython",
    "version": 2
   },
   "file_extension": ".py",
   "mimetype": "text/x-python",
   "name": "python",
   "nbconvert_exporter": "python",
   "pygments_lexer": "ipython2",
   "version": "2.7.13"
  }
 },
 "nbformat": 4,
 "nbformat_minor": 2
}
